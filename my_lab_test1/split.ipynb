{
 "cells": [
  {
   "cell_type": "code",
   "execution_count": 2,
   "metadata": {},
   "outputs": [],
   "source": [
    "import numpy as np\n",
    "import matplotlib.pyplot as plt\n",
    "from scipy.io import loadmat\n",
    "import spectral\n",
    "from sklearn import preprocessing\n",
    "import pandas as pd"
   ]
  },
  {
   "cell_type": "code",
   "execution_count": 3,
   "metadata": {},
   "outputs": [],
   "source": [
    "input_image = loadmat('E:\\data\\hyp_data.mat')['hyp_data']\n",
    "output_image = loadmat('E:\\data\\X.mat')['X']"
   ]
  },
  {
   "cell_type": "code",
   "execution_count": 37,
   "metadata": {},
   "outputs": [],
   "source": [
    "reshape_input = input_image.reshape(200,144,144)"
   ]
  },
  {
   "cell_type": "code",
   "execution_count": 109,
   "metadata": {},
   "outputs": [
    {
     "name": "stdout",
     "output_type": "stream",
     "text": [
      "[3344 3515 3518 3686 3512 3341 3339 3173 3510 3165 3003 3510 3173 3512\n",
      " 3344 3512 3336 3003 3520 3854 3341 3339 3168 3176 3683 3344 3510 3171\n",
      " 3344 3518 3680 3171 3339 3168 3171 3341 3336 2995 2997 3173 3507 3003\n",
      " 3512 3344 3518 3680 3171 3341 3344 3515 3518 3688 3686 3518 3686 3518\n",
      " 3683 3344 3512 3347 3686 3518 3686 3518 3683 3341 3336 3000 3341 3341\n",
      " 3341 3341 3336 2995 2997 3165 3003 3518 3680 3171 3339 3171 3344 3510\n",
      " 3171 3339 3168 3168 3165 2995 2997 3168 3165 2995 2992 2826 3173 3507\n",
      " 3000 3344 3512 3339 3173 3515 3515 3515 3515 3518 3686 3518 3686 3515\n",
      " 3515 3512 3344 3515 3512 3339 3171 3344 3515 3512 3341 3341 3341 3344\n",
      " 3518 3683 3347 3683 3344 3510 3173 3512 3347 3683 3344 3520 3859 3686\n",
      " 3518 3691 3859 3686]\n"
     ]
    }
   ],
   "source": [
    "print(input_image[1][:,0]) # 取出其中一列"
   ]
  },
  {
   "cell_type": "code",
   "execution_count": 135,
   "metadata": {},
   "outputs": [
    {
     "data": {
      "text/plain": [
       "(144, 144)"
      ]
     },
     "execution_count": 135,
     "metadata": {},
     "output_type": "execute_result"
    }
   ],
   "source": [
    "a = input_image[0][:,0]\n",
    "b = input_image[1][:,0]\n",
    "c = np.vstack((a,b))\n",
    "c.shape\n",
    "\n",
    "d = [0]*144\n",
    "for i in range(144):\n",
    "    d[i] = input_image[i][:,0]\n",
    "e = np.vstack((d[i] for i in range(144)))\n",
    "e.shape"
   ]
  }
 ],
 "metadata": {
  "kernelspec": {
   "display_name": "Python 3",
   "language": "python",
   "name": "python3"
  },
  "language_info": {
   "codemirror_mode": {
    "name": "ipython",
    "version": 3
   },
   "file_extension": ".py",
   "mimetype": "text/x-python",
   "name": "python",
   "nbconvert_exporter": "python",
   "pygments_lexer": "ipython3",
   "version": "3.6.5"
  }
 },
 "nbformat": 4,
 "nbformat_minor": 2
}
